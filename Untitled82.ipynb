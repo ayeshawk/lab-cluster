{
 "cells": [
  {
   "cell_type": "code",
   "execution_count": 3,
   "id": "440e557b-d233-451d-a16b-3d84d5aec68f",
   "metadata": {},
   "outputs": [
    {
     "name": "stderr",
     "output_type": "stream",
     "text": [
      "C:\\Users\\SED\\anaconda3\\Lib\\site-packages\\sklearn\\cluster\\_kmeans.py:870: FutureWarning: The default value of `n_init` will change from 10 to 'auto' in 1.4. Set the value of `n_init` explicitly to suppress the warning\n",
      "  warnings.warn(\n",
      "C:\\Users\\SED\\anaconda3\\Lib\\site-packages\\sklearn\\cluster\\_kmeans.py:1382: UserWarning: KMeans is known to have a memory leak on Windows with MKL, when there are less chunks than available threads. You can avoid it by setting the environment variable OMP_NUM_THREADS=1.\n",
      "  warnings.warn(\n"
     ]
    },
    {
     "name": "stdout",
     "output_type": "stream",
     "text": [
      "Dataset with Cluster Assignments:\n",
      "             Name  Age  Income  Cluster\n",
      "0        John Doe   23   35000        2\n",
      "1      Jane Smith   45   55000        0\n",
      "2   Alice Johnson   34   40000        2\n",
      "3       Bob Brown   50   60000        1\n",
      "4   Charlie Davis   23   32000        2\n",
      "5     Emily White   43   45000        0\n",
      "6    David Wilson   36   47000        0\n",
      "7      Sophia Lee   60   72000        1\n",
      "8   Daniel Harris   28   38000        2\n",
      "9    Rachel Clark   33   39000        2\n",
      "10    James Lewis   55   65000        1\n",
      "11  Olivia Walker   47   52000        0\n",
      "12    Lucas Allen   29   37000        2\n",
      "13      Mia Young   38   50000        0\n",
      "14     Ethan King   41   51000        0\n",
      "\n",
      "Centroid Values:\n",
      "Cluster 0: Age ~ 41.67, Income ~ 50000.00\n",
      "Cluster 1: Age ~ 55.00, Income ~ 65666.67\n",
      "Cluster 2: Age ~ 28.33, Income ~ 36833.33\n"
     ]
    }
   ],
   "source": [
    "\n",
    "import pandas as pd\n",
    "from sklearn.cluster import KMeans\n",
    "file_path = 'income.csv'\n",
    "income_data = pd.read_csv(file_path)\n",
    "features = income_data[['Age', 'Income']]\n",
    "kmeans = KMeans(n_clusters=3, random_state=42)\n",
    "kmeans.fit(features)\n",
    "income_data['Cluster'] = kmeans.labels_\n",
    "centroids = kmeans.cluster_centers_\n",
    "print(\"Dataset with Cluster Assignments:\")\n",
    "print(income_data)\n",
    "print(\"\\nCentroid Values:\")\n",
    "for i, centroid in enumerate(centroids):\n",
    "    print(f\"Cluster {i}: Age ~ {centroid[0]:.2f}, Income ~ {centroid[1]:.2f}\")\n"
   ]
  },
  {
   "cell_type": "code",
   "execution_count": 4,
   "id": "e941fae0-68d2-49e7-b6ee-8fa4dbd82a85",
   "metadata": {},
   "outputs": [
    {
     "name": "stderr",
     "output_type": "stream",
     "text": [
      "C:\\Users\\SED\\anaconda3\\Lib\\site-packages\\sklearn\\cluster\\_kmeans.py:870: FutureWarning: The default value of `n_init` will change from 10 to 'auto' in 1.4. Set the value of `n_init` explicitly to suppress the warning\n",
      "  warnings.warn(\n",
      "C:\\Users\\SED\\anaconda3\\Lib\\site-packages\\sklearn\\cluster\\_kmeans.py:1382: UserWarning: KMeans is known to have a memory leak on Windows with MKL, when there are less chunks than available threads. You can avoid it by setting the environment variable OMP_NUM_THREADS=1.\n",
      "  warnings.warn(\n"
     ]
    },
    {
     "name": "stdout",
     "output_type": "stream",
     "text": [
      "  Objects  X  Y  Z  Cluster\n",
      "0    OB-1  1  4  1        1\n",
      "1    OB-2  1  2  2        0\n",
      "2    OB-3  1  4  2        1\n",
      "3    OB-4  2  1  2        0\n",
      "4    OB-5  1  1  1        0\n",
      "5    OB-6  2  4  2        1\n",
      "6    OB-7  1  1  2        0\n",
      "7    OB-8  2  1  1        0\n",
      "[[1.4        1.2        1.6       ]\n",
      " [1.33333333 4.         1.66666667]]\n"
     ]
    }
   ],
   "source": [
    "import pandas as pd\n",
    "from sklearn.cluster import KMeans\n",
    "\n",
    "data = {\n",
    "    \"Objects\": [\"OB-1\", \"OB-2\", \"OB-3\", \"OB-4\", \"OB-5\", \"OB-6\", \"OB-7\", \"OB-8\"],\n",
    "    \"X\": [1, 1, 1, 2, 1, 2, 1, 2],\n",
    "    \"Y\": [4, 2, 4, 1, 1, 4, 1, 1],\n",
    "    \"Z\": [1, 2, 2, 2, 1, 2, 2, 1]\n",
    "}\n",
    "\n",
    "df = pd.DataFrame(data)\n",
    "features = df[[\"X\", \"Y\", \"Z\"]]\n",
    "kmeans = KMeans(n_clusters=2, random_state=42)\n",
    "kmeans.fit(features)\n",
    "df['Cluster'] = kmeans.labels_\n",
    "centroids = kmeans.cluster_centers_\n",
    "print(df)\n",
    "print(centroids)\n"
   ]
  },
  {
   "cell_type": "code",
   "execution_count": 6,
   "id": "59d8e555-117f-41ff-9fd5-5d4c18ebb6e5",
   "metadata": {},
   "outputs": [
    {
     "name": "stderr",
     "output_type": "stream",
     "text": [
      "C:\\Users\\SED\\AppData\\Local\\Temp\\ipykernel_3184\\43025721.py:21: FutureWarning: DataFrame.applymap has been deprecated. Use DataFrame.map instead.\n",
      "  basket = basket.applymap(lambda x: 1 if x > 0 else 0)\n",
      "C:\\Users\\SED\\anaconda3\\Lib\\site-packages\\mlxtend\\frequent_patterns\\fpcommon.py:161: DeprecationWarning: DataFrames with non-bool types result in worse computationalperformance and their support might be discontinued in the future.Please use a DataFrame with bool type\n",
      "  warnings.warn(\n"
     ]
    },
    {
     "ename": "TypeError",
     "evalue": "association_rules() missing 1 required positional argument: 'num_itemsets'",
     "output_type": "error",
     "traceback": [
      "\u001b[1;31m---------------------------------------------------------------------------\u001b[0m",
      "\u001b[1;31mTypeError\u001b[0m                                 Traceback (most recent call last)",
      "Cell \u001b[1;32mIn[6], line 27\u001b[0m\n\u001b[0;32m     24\u001b[0m frequent_itemsets \u001b[38;5;241m=\u001b[39m apriori(basket, min_support\u001b[38;5;241m=\u001b[39m\u001b[38;5;241m0.05\u001b[39m, use_colnames\u001b[38;5;241m=\u001b[39m\u001b[38;5;28;01mTrue\u001b[39;00m)\n\u001b[0;32m     26\u001b[0m \u001b[38;5;66;03m# Generate association rules\u001b[39;00m\n\u001b[1;32m---> 27\u001b[0m rules \u001b[38;5;241m=\u001b[39m association_rules(frequent_itemsets, metric\u001b[38;5;241m=\u001b[39m\u001b[38;5;124m\"\u001b[39m\u001b[38;5;124mlift\u001b[39m\u001b[38;5;124m\"\u001b[39m, min_threshold\u001b[38;5;241m=\u001b[39m\u001b[38;5;241m1\u001b[39m)\n\u001b[0;32m     29\u001b[0m \u001b[38;5;66;03m# Display frequent itemsets and rules\u001b[39;00m\n\u001b[0;32m     30\u001b[0m \u001b[38;5;28mprint\u001b[39m(\u001b[38;5;124m\"\u001b[39m\u001b[38;5;124mFrequent Itemsets:\u001b[39m\u001b[38;5;124m\"\u001b[39m)\n",
      "\u001b[1;31mTypeError\u001b[0m: association_rules() missing 1 required positional argument: 'num_itemsets'"
     ]
    }
   ],
   "source": [
    "import pandas as pd\n",
    "from mlxtend.frequent_patterns import apriori\n",
    "from mlxtend.frequent_patterns import association_rules\n",
    "\n",
    "# Load the dataset\n",
    "file_path = 'Online_Retail.xlsx'  # Replace with the correct path to the uploaded file\n",
    "data = pd.read_excel(file_path)\n",
    "\n",
    "# Data preprocessing\n",
    "data.dropna(inplace=True)  # Remove missing values\n",
    "data['InvoiceNo'] = data['InvoiceNo'].astype(str)\n",
    "data = data[~data['InvoiceNo'].str.contains('C')]  # Remove cancelled transactions\n",
    "\n",
    "# Create a basket for each country (e.g., 'United Kingdom')\n",
    "basket = (data[data['Country'] == 'United Kingdom']\n",
    "          .groupby(['InvoiceNo', 'Description'])['Quantity']\n",
    "          .sum().unstack().reset_index().fillna(0)\n",
    "          .set_index('InvoiceNo'))\n",
    "\n",
    "# Convert quantities to 1 (purchased) or 0 (not purchased)\n",
    "basket = basket.applymap(lambda x: 1 if x > 0 else 0)\n",
    "\n",
    "# Run Apriori algorithm\n",
    "frequent_itemsets = apriori(basket, min_support=0.05, use_colnames=True)\n",
    "\n",
    "# Generate association rules\n",
    "rules = association_rules(frequent_itemsets, metric=\"lift\", min_threshold=1)\n",
    "\n",
    "# Display frequent itemsets and rules\n",
    "print(\"Frequent Itemsets:\")\n",
    "print(frequent_itemsets)\n",
    "\n",
    "print(\"\\nAssociation Rules:\")\n",
    "print(rules)\n"
   ]
  },
  {
   "cell_type": "code",
   "execution_count": null,
   "id": "f4e74e74-8ee7-465d-8fae-a255d8e29d9a",
   "metadata": {},
   "outputs": [],
   "source": [
    "import pandas as pd\n",
    "from mlxtend.frequent_patterns import apriori\n",
    "from mlxtend.frequent_patterns import association_rules\n",
    "\n",
    "# Load dataset\n",
    "file_path = \"Online_Retail.xlsx\"  # Update this with the correct path if needed\n",
    "data = pd.read_excel(file_path, sheet_name=\"Online Retail\")\n",
    "\n",
    "# Preprocess the data\n",
    "# Create a basket with each row as a transaction and items as columns\n",
    "basket = data.groupby(['InvoiceNo', 'Description'])['Quantity'].sum().unstack().fillna(0)\n",
    "\n",
    "# Convert quantities into binary (1 if purchased, 0 otherwise)\n",
    "basket = basket.applymap(lambda x: 1 if x > 0 else 0)\n",
    "\n",
    "# Step 1: Find frequent itemsets with a support value of at least 7%\n",
    "frequent_itemsets_7 = apriori(basket, min_support=0.07, use_colnames=True)\n",
    "print(\"\\nFrequent Itemsets with Support >= 7%:\")\n",
    "print(frequent_itemsets_7)\n",
    "\n",
    "# Step 2: Find frequent itemsets with a support value of at least 5%\n",
    "frequent_itemsets_5 = apriori(basket, min_support=0.05, use_colnames=True)\n",
    "print(\"\\nFrequent Itemsets with Support >= 5%:\")\n",
    "print(frequent_itemsets_5)\n",
    "\n",
    "# Step 3: Generate association rules for itemsets with a support of at least 5%\n",
    "rules = association_rules(frequent_itemsets_5, metric=\"lift\", min_threshold=1.0)\n",
    "print(\"\\nAssociation Rules:\")\n",
    "print(rules)"
   ]
  },
  {
   "cell_type": "code",
   "execution_count": null,
   "id": "1bc80940-6e4e-420f-8591-f1e6b70ce829",
   "metadata": {},
   "outputs": [],
   "source": []
  }
 ],
 "metadata": {
  "kernelspec": {
   "display_name": "Python 3 (ipykernel)",
   "language": "python",
   "name": "python3"
  },
  "language_info": {
   "codemirror_mode": {
    "name": "ipython",
    "version": 3
   },
   "file_extension": ".py",
   "mimetype": "text/x-python",
   "name": "python",
   "nbconvert_exporter": "python",
   "pygments_lexer": "ipython3",
   "version": "3.11.7"
  }
 },
 "nbformat": 4,
 "nbformat_minor": 5
}
